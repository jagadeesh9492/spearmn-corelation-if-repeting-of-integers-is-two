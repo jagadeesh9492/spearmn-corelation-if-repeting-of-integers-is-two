{
 "cells": [
  {
   "cell_type": "code",
   "execution_count": 5,
   "id": "19ef955f",
   "metadata": {},
   "outputs": [
    {
     "name": "stdout",
     "output_type": "stream",
     "text": [
      "original list\n",
      "[15, 15, 18, 21, 21]\n",
      " \n",
      "the rank list\n",
      "[1.5, 1.5, 3, 4.5, 4.5]\n",
      " \n",
      "for tracing the code\n",
      "[1, 2, 4, 5]\n",
      "[2, 2]\n",
      "[1.5, 4.5]\n",
      "[2, 5]\n"
     ]
    }
   ],
   "source": [
    "lis1=[15, 15, 18,21,21]\n",
    "print('original list')\n",
    "print(lis1)\n",
    "print(' ')\n",
    "c=[] # for appending ranks from 1 to 15\n",
    "c1=[] # for inner operation\n",
    "new=[] # for for ranks \n",
    "hf=[] # to know c values while count of i is greater than 1 means i shold get 1,2 , 4,5\n",
    "temp=0 # for storing j value as we are using this\n",
    "tem=0 # for doing summation\n",
    "y=0 # for storing count value\n",
    "tem12=[] # for knowing summation in list c1\n",
    "yy=[] #foe knowing count values\n",
    "can=[]\n",
    "for i in range(1,len(lis1)+1):\n",
    "    c.append(i)\n",
    "for j in lis1:\n",
    "    if lis1.count(j) >1:\n",
    "        y=lis1.count(j)\n",
    "        yy.append(y)\n",
    "        c11=lis1.index(j) #integre value\n",
    "        c1.append(c[c11]) #with integer  value appending to list\n",
    "        temp=j\n",
    "        lis1[c11]='jagadeesh' # just adding name so as to not change index value\n",
    "        for k in lis1:\n",
    "            if k == temp:\n",
    "                d1=lis1.index(k) # here we will get integer\n",
    "                can.append(c[d1])\n",
    "                c1.append(c[d1])\n",
    "        for h in c1:\n",
    "            hf.append(h)\n",
    "        for l in range(len(c1)):\n",
    "            tem=tem+c1[0]\n",
    "            c1.remove(c1[0])\n",
    "        tem=tem/y\n",
    "        tem12.append(tem)\n",
    "        for k1 in range(y):\n",
    "            new.append(tem)\n",
    "    else:\n",
    "        k1=lis1.index(j)\n",
    "        new.append(c[k1])\n",
    "    temp=0\n",
    "    tem=0 \n",
    "    y=0\n",
    "for i in new:\n",
    "    for k in can:\n",
    "        if i ==k:\n",
    "            new.remove(i)\n",
    "            \n",
    "print('the rank list')\n",
    "print(new)\n",
    "print(' ')\n",
    "print('for tracing the code')\n",
    "print(hf)\n",
    "print(yy)\n",
    "print(tem12)\n",
    "print(can)"
   ]
  },
  {
   "cell_type": "code",
   "execution_count": null,
   "id": "37764104",
   "metadata": {},
   "outputs": [],
   "source": []
  }
 ],
 "metadata": {
  "kernelspec": {
   "display_name": "Python 3 (ipykernel)",
   "language": "python",
   "name": "python3"
  },
  "language_info": {
   "codemirror_mode": {
    "name": "ipython",
    "version": 3
   },
   "file_extension": ".py",
   "mimetype": "text/x-python",
   "name": "python",
   "nbconvert_exporter": "python",
   "pygments_lexer": "ipython3",
   "version": "3.9.13"
  }
 },
 "nbformat": 4,
 "nbformat_minor": 5
}
